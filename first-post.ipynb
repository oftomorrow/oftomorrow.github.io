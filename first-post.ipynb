{
 "metadata": {
  "name": ""
 },
 "nbformat": 3,
 "nbformat_minor": 0,
 "worksheets": [
  {
   "cells": [
    {
     "cell_type": "markdown",
     "metadata": {},
     "source": [
      "Title: First Post\n",
      "Slug: first-post\n",
      "Date: 2016-09-05 19:00\n",
      "Category: posts\n",
      "Tags: python\n",
      "Author: me\n",
      "Summary: My first post, read it to find out."
     ]
    }
   ],
   "metadata": {}
  }
 ]
}